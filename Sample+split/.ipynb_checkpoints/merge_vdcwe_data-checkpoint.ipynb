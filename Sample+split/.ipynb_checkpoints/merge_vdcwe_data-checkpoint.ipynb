{
 "cells": [
  {
   "cell_type": "code",
   "execution_count": 1,
   "id": "7c1d7dab",
   "metadata": {},
   "outputs": [],
   "source": [
    "import argparse\n",
    "import pickle\n",
    "import numpy as np \n",
    "import csv\n",
    "import sys\n",
    "import torch\n",
    "from tqdm import tqdm\n",
    "import torch.nn as nn\n",
    "import os, datetime\n",
    "import numpy as np\n",
    "import torch.nn.functional as F\n",
    "import numpy as np\n",
    "import math\n",
    "import os, torch\n",
    "import random\n",
    "import csv\n",
    "import sys\n",
    "import json\n",
    "\n",
    "\n"
   ]
  },
  {
   "cell_type": "code",
   "execution_count": 2,
   "id": "7fd0d647",
   "metadata": {},
   "outputs": [
    {
     "name": "stdout",
     "output_type": "stream",
     "text": [
      "29814\n",
      "7950\n",
      "1987\n",
      "16413\n",
      "4377\n",
      "1094\n",
      "21854\n",
      "2732\n",
      "2732\n",
      "13640\n",
      "4547\n",
      "4547\n"
     ]
    }
   ],
   "source": [
    "import pandas as pd\n",
    "\n",
    "basepath = \"MYVDCWEDATA/\"\n",
    "\n",
    "\n",
    "data = pd.read_json(basepath + \"cwe119_train.jsonl\", lines=True)\n",
    "\n",
    "\n",
    "total_num = len(data)\n",
    "print(total_num)\n",
    "\n",
    "\n",
    "data = pd.read_json(basepath + \"cwe119_test.jsonl\", lines=True)\n",
    "\n",
    "\n",
    "total_num = len(data)\n",
    "print(total_num)\n",
    "\n",
    "\n",
    "\n",
    "data = pd.read_json(basepath + \"cwe119_valid.jsonl\", lines=True)\n",
    "\n",
    "\n",
    "total_num = len(data)\n",
    "print(total_num)\n",
    "\n",
    "\n",
    "data = pd.read_json(basepath + \"cwe399_train.jsonl\", lines=True)\n",
    "\n",
    "\n",
    "total_num = len(data)\n",
    "print(total_num)\n",
    "\n",
    "data = pd.read_json(basepath + \"cwe399_test.jsonl\", lines=True)\n",
    "\n",
    "\n",
    "total_num = len(data)\n",
    "print(total_num)\n",
    "\n",
    "data = pd.read_json(basepath + \"cwe399_valid.jsonl\", lines=True)\n",
    "\n",
    "\n",
    "total_num = len(data)\n",
    "print(total_num)\n",
    "\n",
    "\n",
    "data = pd.read_json(basepath + \"codexglue_train.jsonl\", lines=True)\n",
    "\n",
    "\n",
    "total_num = len(data)\n",
    "print(total_num)\n",
    "\n",
    "data = pd.read_json(basepath + \"codexglue_test.jsonl\", lines=True)\n",
    "\n",
    "\n",
    "total_num = len(data)\n",
    "print(total_num)\n",
    "\n",
    "data = pd.read_json(basepath + \"codexglue_valid.jsonl\", lines=True)\n",
    "\n",
    "\n",
    "total_num = len(data)\n",
    "print(total_num)\n",
    "\n",
    "\n",
    "\n",
    "data = pd.read_json(basepath + \"reveal_train.jsonl\", lines=True)\n",
    "\n",
    "\n",
    "total_num = len(data)\n",
    "print(total_num)\n",
    "\n",
    "data = pd.read_json(basepath + \"reveal_test.jsonl\", lines=True)\n",
    "\n",
    "total_num = len(data)\n",
    "print(total_num)\n",
    "\n",
    "data = pd.read_json(basepath + \"reveal_valid.jsonl\", lines=True)\n",
    "\n",
    "\n",
    "total_num = len(data)\n",
    "print(total_num)"
   ]
  },
  {
   "cell_type": "code",
   "execution_count": 3,
   "id": "92d8298c",
   "metadata": {},
   "outputs": [
    {
     "name": "stdout",
     "output_type": "stream",
     "text": [
      "21854\n",
      "24586\n",
      "27318\n"
     ]
    }
   ],
   "source": [
    "\n",
    "import json\n",
    "\n",
    "basepath = \"MYVDCWEDATA/\"\n",
    "\n",
    "data = []\n",
    "with open(basepath + 'codexglue_train.jsonl') as f:\n",
    "    for line in f:\n",
    "        data.append(json.loads(line))\n",
    "print(len(data))\n",
    "with open(basepath + 'codexglue_test.jsonl') as f:\n",
    "    for line in f:\n",
    "        data.append(json.loads(line))                \n",
    "print(len(data))\n",
    "with open(basepath + 'codexglue_valid.jsonl') as f:\n",
    "    for line in f:\n",
    "        data.append(json.loads(line))                \n",
    "print(len(data))\n",
    "\n",
    "with open(basepath + 'codexglue_all.jsonl', 'w') as f:\n",
    "        for item in data:\n",
    "            json.dump(item, f)\n",
    "            f.write('\\n')\n",
    "\n"
   ]
  },
  {
   "cell_type": "code",
   "execution_count": 4,
   "id": "3e8d2919",
   "metadata": {},
   "outputs": [
    {
     "name": "stdout",
     "output_type": "stream",
     "text": [
      "13640\n",
      "18187\n",
      "22734\n"
     ]
    }
   ],
   "source": [
    "\n",
    "import json\n",
    "\n",
    "basepath = \"MYVDCWEDATA/\"\n",
    "\n",
    "data = []\n",
    "with open(basepath + 'reveal_train.jsonl') as f:\n",
    "    for line in f:\n",
    "        data.append(json.loads(line))\n",
    "print(len(data))\n",
    "with open(basepath + 'reveal_test.jsonl') as f:\n",
    "    for line in f:\n",
    "        data.append(json.loads(line))                \n",
    "print(len(data))\n",
    "with open(basepath + 'reveal_valid.jsonl') as f:\n",
    "    for line in f:\n",
    "        data.append(json.loads(line))                \n",
    "print(len(data))\n",
    "\n",
    "with open(basepath + 'reveal_all.jsonl', 'w') as f:\n",
    "        for item in data:\n",
    "            json.dump(item, f)\n",
    "            f.write('\\n')\n",
    "\n"
   ]
  },
  {
   "cell_type": "code",
   "execution_count": 5,
   "id": "4609875f",
   "metadata": {},
   "outputs": [
    {
     "name": "stdout",
     "output_type": "stream",
     "text": [
      "29814\n",
      "37764\n",
      "39751\n"
     ]
    }
   ],
   "source": [
    "\n",
    "import json\n",
    "\n",
    "basepath = \"MYVDCWEDATA/\"\n",
    "\n",
    "data = []\n",
    "with open(basepath + 'cwe119_train.jsonl') as f:\n",
    "    for line in f:\n",
    "        data.append(json.loads(line))\n",
    "print(len(data))\n",
    "with open(basepath + 'cwe119_test.jsonl') as f:\n",
    "    for line in f:\n",
    "        data.append(json.loads(line))                \n",
    "print(len(data))\n",
    "with open(basepath + 'cwe119_valid.jsonl') as f:\n",
    "    for line in f:\n",
    "        data.append(json.loads(line))                \n",
    "print(len(data))\n",
    "\n",
    "with open(basepath + 'cwe119_all.jsonl', 'w') as f:\n",
    "        for item in data:\n",
    "            json.dump(item, f)\n",
    "            f.write('\\n')\n",
    "\n"
   ]
  },
  {
   "cell_type": "code",
   "execution_count": 6,
   "id": "c7605809",
   "metadata": {},
   "outputs": [
    {
     "name": "stdout",
     "output_type": "stream",
     "text": [
      "16413\n",
      "20790\n",
      "21884\n"
     ]
    }
   ],
   "source": [
    "\n",
    "import json\n",
    "\n",
    "basepath = \"MYVDCWEDATA/\"\n",
    "\n",
    "data = []\n",
    "with open(basepath + 'cwe399_train.jsonl') as f:\n",
    "    for line in f:\n",
    "        data.append(json.loads(line))\n",
    "print(len(data))\n",
    "with open(basepath + 'cwe399_test.jsonl') as f:\n",
    "    for line in f:\n",
    "        data.append(json.loads(line))                \n",
    "print(len(data))\n",
    "with open(basepath + 'cwe399_valid.jsonl') as f:\n",
    "    for line in f:\n",
    "        data.append(json.loads(line))                \n",
    "print(len(data))\n",
    "\n",
    "with open(basepath + 'cwe399_all.jsonl', 'w') as f:\n",
    "        for item in data:\n",
    "            json.dump(item, f)\n",
    "            f.write('\\n')\n",
    "\n"
   ]
  },
  {
   "cell_type": "code",
   "execution_count": null,
   "id": "3d6ff4a6",
   "metadata": {},
   "outputs": [],
   "source": []
  }
 ],
 "metadata": {
  "kernelspec": {
   "display_name": "Python 3 (ipykernel)",
   "language": "python",
   "name": "python3"
  },
  "language_info": {
   "codemirror_mode": {
    "name": "ipython",
    "version": 3
   },
   "file_extension": ".py",
   "mimetype": "text/x-python",
   "name": "python",
   "nbconvert_exporter": "python",
   "pygments_lexer": "ipython3",
   "version": "3.7.1"
  }
 },
 "nbformat": 4,
 "nbformat_minor": 5
}
